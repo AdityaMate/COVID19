{
 "cells": [
  {
   "cell_type": "code",
   "execution_count": 126,
   "metadata": {},
   "outputs": [],
   "source": [
    "import functions"
   ]
  },
  {
   "cell_type": "code",
   "execution_count": 127,
   "metadata": {},
   "outputs": [
    {
     "name": "stdout",
     "output_type": "stream",
     "text": [
      "3.7.3\n"
     ]
    }
   ],
   "source": [
    "from platform import python_version\n",
    "\n",
    "print(python_version())"
   ]
  },
  {
   "cell_type": "code",
   "execution_count": 128,
   "metadata": {},
   "outputs": [],
   "source": [
    "import numpy as np\n",
    "import csv\n",
    "import math\n",
    "\n",
    "def get_family_p(country):\n",
    "    with open('Houseshold.csv',encoding='latin-1') as csv_file:\n",
    "        csv_reader = csv.reader(csv_file, delimiter=',')\n",
    "        flag=False\n",
    "        for row in csv_reader:\n",
    "            if flag==False:\n",
    "                if row[0]==country and len(row[0])==len(country):\n",
    "                    family_vector=np.array(row)\n",
    "                    flag=True\n",
    "            else:\n",
    "                if row[0]==country and len(row[0])==len(country):\n",
    "                    family_vector=np.array(row)\n",
    "                else:\n",
    "                    break\n",
    "    family_vector[family_vector=='..']='0.0'\n",
    "    average_household_size=float(family_vector[4])\n",
    "    one_person_p=float(family_vector[30])/100\n",
    "    couple_only_p=float(family_vector[31])/100\n",
    "    couple_with_children_p=float(family_vector[32])/100\n",
    "    single_parent_with_children_p=float(family_vector[33])/100\n",
    "    average_household_size-1*one_person_p-2*couple_only_p\n",
    "    Extended_family_p=float(family_vector[36])/100\n",
    "    Non_relative_p=float(family_vector[37])/100\n",
    "    return np.array([one_person_p,couple_only_p,couple_with_children_p,single_parent_with_children_p])\n",
    "\n",
    "def get_age_distribution(country):\n",
    "    age_distribution=[]\n",
    "    with open('World_Age_2019.csv') as csv_file:\n",
    "        csv_reader = csv.reader(csv_file, delimiter=',')\n",
    "        for row in csv_reader:\n",
    "            if row[0]==country:\n",
    "                for i in range(101):\n",
    "                    age_distribution.append(float(row[i+1]))\n",
    "                break\n",
    "    return np.array(age_distribution)\n",
    "\n",
    "def get_mean_child_number(country):\n",
    "    with open('TotalFertility.csv',encoding='latin-1') as csv_file:\n",
    "        csv_reader = csv.reader(csv_file, delimiter=',')\n",
    "        for row in csv_reader:\n",
    "            if row[0]==country:\n",
    "                child_number=float(row[1])\n",
    "                break\n",
    "    return child_number\n",
    "\n",
    "def get_mother_birth_age_distribution(country):\n",
    "    mother_birth_age_distribution=[]\n",
    "    with open('AgeSpecificFertility.csv',encoding='latin-1') as csv_file:\n",
    "        csv_reader = csv.reader(csv_file, delimiter=',')\n",
    "        for row in csv_reader:\n",
    "            if row[0]==country:\n",
    "                #15-19\t20-24\t25-29\t30-34\t35-39\t40-44\t45-49\n",
    "                for i in range(7):\n",
    "                    mother_birth_age_distribution.append(float(row[i+1]))\n",
    "                break\n",
    "    return np.array(mother_birth_age_distribution)\n"
   ]
  },
  {
   "cell_type": "code",
   "execution_count": null,
   "metadata": {},
   "outputs": [],
   "source": []
  },
  {
   "cell_type": "code",
   "execution_count": 129,
   "metadata": {},
   "outputs": [
    {
     "name": "stdout",
     "output_type": "stream",
     "text": [
      "LOL3_TN\n"
     ]
    }
   ],
   "source": [
    "n = 10000000\n",
    "#from sample_households import sample_households_maharashtra\n",
    "#from sample_households import sample_households_up\n",
    "from sample_households import sample_households_tamilnadu\n",
    "#households, age = sample_households_italy(10000000)\n",
    "#households, age = sample_households_maharashtra(10000000)\n",
    "households, age = sample_households_tamilnadu(10000000)"
   ]
  },
  {
   "cell_type": "code",
   "execution_count": 130,
   "metadata": {},
   "outputs": [],
   "source": [
    "#age=np.array([int(item*(31./37.)) for item in age])\n",
    "# Population sample adjustment FOR Maharashtra\n",
    "'''\n",
    "for i, item in enumerate(age):\n",
    "    if item>60 and np.random.uniform()>=0.5:\n",
    "        age[i]=np.random.uniform(101)\n",
    "'''\n",
    "\n",
    "\n",
    "\"\"\"\n",
    "# Population sample adjustment FOR UP\n",
    "n_ages = 101\n",
    "age_distribution= [2.1,2.03,2.03,2.14,2.08,2.12,2.31,2.22,2.47,2.01,2.76,2.02,2.69,2.49,2.2,2.45,2.41,2.15,\n",
    "                       2.75,1.72,2.46,1.55,2.19,1.61,1.55,2.23,1.56,1.23,1.8,0.81,2.25,0.67,1.56,0.8,0.79,2.26,\n",
    "                       0.98,0.73,1.25,0.58,1.96,0.54,1.16,0.64,0.57,1.87,0.72,0.61,0.96,0.48,1.08,0.61,1.02,0.56,\n",
    "                       0.54,1.62,0.65,0.42,0.7,0.28,1.73,0.29,0.65,0.27,0.23,1.52,0.2,0.19,0.31,0.11,1.1,0.09,0.25,\n",
    "                       0.09,0.08,0.58,0.09,0.04,0.09,0.03,0.42,0.03,0.07,0.02,0.02,0.19,0.02,0.02,0.02,0.01,0.1,0,\n",
    "                       0.01,0,0,0.03,0.01,0.01,0.01,0.01,0.01]\n",
    "\n",
    "age_distribution=np.array(age_distribution)\n",
    "for i, item in enumerate(age):\n",
    "    if item>50 and item <70 and np.random.uniform()>=0.6:\n",
    "        age[i]=np.random.choice(n_ages-71, p=age_distribution[:30]/sum(age_distribution[:30]))\n",
    "    elif item >=70 and np.random.uniform()>=0.4:\n",
    "        age[i]=np.random.choice(n_ages-71, p=age_distribution[:30]/sum(age_distribution[:30]))\n",
    "\n",
    "\n",
    "\"\"\"\n",
    "\n",
    "\n",
    "\n",
    "\n",
    "# Population sample adjustment FOR TN\n",
    "n_ages = 101\n",
    "age_distribution_tamilnadu= [1.38, 1.56, 1.57, 1.73, 1.57, 1.39, 1.53,1.6, 1.57,1.42, 1.57, 1.39, 1.61, 1.72, 1.54, 1.78, 1.46, 1.65, 1.67, 1.53, 1.68, 1.52, 1.67,\n",
    "                       1.74, 1.79, 2.1, 1.59, 1.8, 1.93, 1.64, 2.4, 1.21, 1.87, 1.22, 1.45, 2.24, 1.28, 1.43, 1.73, 1.23, 2.48, 0.87, 1.46, 1.02, 1, 2.61,\n",
    "                       1.03, 1.24, 1.47, 1.1, 1.63, 0.8, 1.45, 0.81, 0.85, 1.96, 0.83, 0.73, 0.96, 0.51, 1.93, 0.36, 0.73, 0.46, 0.42, 1.54, 0.26, 0.44,\n",
    "                       0.34, 0.27, 1.11, 0.11, 0.21, 0.16, 0.17, 0.61 ,0.12, 0.1, 0.1, 0.07, 0.37,0.04, 0.06, 0.03, 0.05, 0.15, 0.03, 0.03, 0.02, 0.01,\n",
    "                       0.07, 0.01, 0, 0.01, 0.01, 0.01, 0.01, 0.01, 0, 0, 0]\n",
    "\n",
    "\n",
    "age_distribution_tamilnadu=np.array(age_distribution_tamilnadu)\n",
    "for i, item in enumerate(age):\n",
    "    if item>50 and np.random.uniform()>=0.7:\n",
    "        age[i]=np.random.choice(n_ages-51, p=age_distribution_tamilnadu[:50]/sum(age_distribution_tamilnadu[:50]))\n",
    "\n"
   ]
  },
  {
   "cell_type": "code",
   "execution_count": 131,
   "metadata": {},
   "outputs": [
    {
     "data": {
      "text/plain": [
       "32.5566352"
      ]
     },
     "execution_count": 131,
     "metadata": {},
     "output_type": "execute_result"
    }
   ],
   "source": [
    "age.mean()"
   ]
  },
  {
   "cell_type": "code",
   "execution_count": 132,
   "metadata": {},
   "outputs": [
    {
     "data": {
      "text/plain": [
       "100"
      ]
     },
     "execution_count": 132,
     "metadata": {},
     "output_type": "execute_result"
    }
   ],
   "source": [
    "age.max()"
   ]
  },
  {
   "cell_type": "code",
   "execution_count": 133,
   "metadata": {},
   "outputs": [],
   "source": [
    "import numpy as np\n",
    "import csv\n",
    "import math\n",
    "y = np.bincount(age)\n",
    "age_ratios = y/y.sum()"
   ]
  },
  {
   "cell_type": "code",
   "execution_count": 134,
   "metadata": {},
   "outputs": [],
   "source": [
    "age_0_14 = age_ratios[0:15].sum()\n",
    "age_15_29 = age_ratios[15:30].sum()\n",
    "age_30_49 = age_ratios[30:50].sum()\n",
    "age_50_69 = age_ratios[50:70].sum()\n",
    "age_70_plus = age_ratios[70:].sum()"
   ]
  },
  {
   "cell_type": "code",
   "execution_count": 135,
   "metadata": {},
   "outputs": [
    {
     "name": "stdout",
     "output_type": "stream",
     "text": [
      "Sampled\n",
      "0-14:  0.2283386\n",
      "15-29:  0.26671890000000004\n",
      "30-49:  0.2912239\n",
      "50-69:  0.1728401\n",
      "70+:  0.040878500000000005\n"
     ]
    }
   ],
   "source": [
    "print('Sampled')\n",
    "print('0-14: ', age_0_14)\n",
    "print('15-29: ', age_15_29)\n",
    "print('30-49: ', age_30_49)\n",
    "print('50-69: ', age_50_69)\n",
    "print('70+: ', age_70_plus)"
   ]
  },
  {
   "cell_type": "code",
   "execution_count": 136,
   "metadata": {},
   "outputs": [],
   "source": [
    "age_distribution_up= [2.1,2.03,2.03,2.14,2.08,2.12,2.31,2.22,2.47,2.01,2.76,2.02,2.69,2.49,2.2,2.45,2.41,2.15,\n",
    "                       2.75,1.72,2.46,1.55,2.19,1.61,1.55,2.23,1.56,1.23,1.8,0.81,2.25,0.67,1.56,0.8,0.79,2.26,\n",
    "                       0.98,0.73,1.25,0.58,1.96,0.54,1.16,0.64,0.57,1.87,0.72,0.61,0.96,0.48,1.08,0.61,1.02,0.56,\n",
    "                       0.54,1.62,0.65,0.42,0.7,0.28,1.73,0.29,0.65,0.27,0.23,1.52,0.2,0.19,0.31,0.11,1.1,0.09,0.25,\n",
    "                       0.09,0.08,0.58,0.09,0.04,0.09,0.03,0.42,0.03,0.07,0.02,0.02,0.19,0.02,0.02,0.02,0.01,0.1,0,\n",
    "                       0.01,0,0,0.03,0.01,0.01,0.01,0.01,0.01]\n",
    "age_distribution_maharashtra=[1.63, 1.54, 1.73, 1.67, 1.68, 1.50, 1.60, 1.58, 1.67, 1.54, 1.67, 1.59, 1.78, 1.65, 2.01, 1.76,\n",
    "                       1.65, 1.76, 1.93, 1.68, 1.98, 1.84, 2.14, 1.83, 1.95, 2.29, 1.91, 1.71, 1.91, 1.50, 2.23, 1.20,\n",
    "                       1.78, 1.14, 1.24, 2.20, 1.19, 1.17, 1.37, 1.18, 2.01 ,0.94, 1.38, 1.03, 0.91 ,1.86, 0.95, 0.92,\n",
    "                       0.99, 0.76, 1.78, 0.79, 1.05, 0.66, 0.73, 1.66, 0.70, 0.66, 0.71, 0.50, 1.74, 0.44, 0.70, 0.45,\n",
    "                       0.45, 1.84, 0.44, 0.51, 0.41, 0.36, 1.12, 0.22, 0.37, 0.18, 0.20, 0.64, 0.12, 0.12 ,0.14, 0.07,\n",
    "                       0.38, 0.06, 0.10, 0.05, 0.07, 0.15, 0.03, 0.03, 0.02, 0.03, 0.10, 0.00,0.01, 0.01, 0.01, 0.07,0.02, 0,0,0,0]\n",
    "\n",
    "age_distribution_tamilnadu= [1.38, 1.56, 1.57, 1.73, 1.57, 1.39, 1.53,1.6, 1.57,1.42, 1.57, 1.39, 1.61, 1.72, 1.54, 1.78, 1.46, 1.65, 1.67, 1.53, 1.68, 1.52, 1.67,\n",
    "                       1.74, 1.79, 2.1, 1.59, 1.8, 1.93, 1.64, 2.4, 1.21, 1.87, 1.22, 1.45, 2.24, 1.28, 1.43, 1.73, 1.23, 2.48, 0.87, 1.46, 1.02, 1, 2.61,\n",
    "                       1.03, 1.24, 1.47, 1.1, 1.63, 0.8, 1.45, 0.81, 0.85, 1.96, 0.83, 0.73, 0.96, 0.51, 1.93, 0.36, 0.73, 0.46, 0.42, 1.54, 0.26, 0.44,\n",
    "                       0.34, 0.27, 1.11, 0.11, 0.21, 0.16, 0.17, 0.61 ,0.12, 0.1, 0.1, 0.07, 0.37,0.04, 0.06, 0.03, 0.05, 0.15, 0.03, 0.03, 0.02, 0.01,\n",
    "                       0.07, 0.01, 0, 0.01, 0.01, 0.01, 0.01, 0.01, 0, 0, 0]\n",
    "\n",
    "\n",
    "italian_ages = np.array(age_distribution_tamilnadu)\n",
    "italian_ages = italian_ages/italian_ages.sum()"
   ]
  },
  {
   "cell_type": "code",
   "execution_count": 137,
   "metadata": {},
   "outputs": [],
   "source": [
    "italian_ages_0_14 = italian_ages[0:15].sum()\n",
    "italian_ages_15_29 = italian_ages[15:30].sum()\n",
    "italian_ages_30_49 = italian_ages[30:50].sum()\n",
    "italian_ages_50_69 = italian_ages[50:70].sum()\n",
    "italian_ages_70_plus = italian_ages[70:].sum()"
   ]
  },
  {
   "cell_type": "code",
   "execution_count": 138,
   "metadata": {},
   "outputs": [
    {
     "name": "stdout",
     "output_type": "stream",
     "text": [
      "Actual\n",
      "0-14:  0.23149999999999996\n",
      "15-29:  0.25549999999999995\n",
      "30-49:  0.30339999999999995\n",
      "50-69:  0.17279999999999995\n",
      "70+:  0.0368\n"
     ]
    }
   ],
   "source": [
    "print('Actual')\n",
    "print('0-14: ', italian_ages_0_14)\n",
    "print('15-29: ', italian_ages_15_29)\n",
    "print('30-49: ', italian_ages_30_49)\n",
    "print('50-69: ', italian_ages_50_69)\n",
    "print('70+: ', italian_ages_70_plus)"
   ]
  },
  {
   "cell_type": "code",
   "execution_count": null,
   "metadata": {},
   "outputs": [],
   "source": []
  },
  {
   "cell_type": "code",
   "execution_count": 139,
   "metadata": {},
   "outputs": [
    {
     "name": "stdout",
     "output_type": "stream",
     "text": [
      "LOL2\n"
     ]
    }
   ],
   "source": [
    "from sample_comorbidities import sample_joint_comorbidities, p_comorbidity\n",
    "#a= p_comorbidity(\"Maharashtra\", 'diabetes', warning=False)\n",
    "country='tamilnadu'\n",
    "n_ages = 101\n",
    "age_groups = tuple([np.where(age == i)[0] for i in range(0, n_ages)])\n",
    "    #    age_group_sizes = np.array([age_groups[i].shape[0] for i in range(0, n_ages)])\n",
    "    #    diabetes = sample_comorbidities.sample_diabetes_china(age)\n",
    "    #    hypertension = sample_comorbidities.sample_hypertension_china(age)\n",
    "diabetes, hypertension = sample_joint_comorbidities(age, country)"
   ]
  },
  {
   "cell_type": "code",
   "execution_count": 140,
   "metadata": {},
   "outputs": [
    {
     "data": {
      "text/plain": [
       "1514687"
      ]
     },
     "execution_count": 140,
     "metadata": {},
     "output_type": "execute_result"
    }
   ],
   "source": [
    "# Does number of ppl with diabetes make sense?\n",
    "diabetes.sum()"
   ]
  },
  {
   "cell_type": "code",
   "execution_count": 141,
   "metadata": {},
   "outputs": [
    {
     "data": {
      "text/plain": [
       "1862837"
      ]
     },
     "execution_count": 141,
     "metadata": {},
     "output_type": "execute_result"
    }
   ],
   "source": [
    "# Does number of ppl with hypertension make sense?\n",
    "hypertension.sum()"
   ]
  },
  {
   "cell_type": "code",
   "execution_count": 74,
   "metadata": {},
   "outputs": [],
   "source": [
    "import pickle\n",
    "pickle.dump([age, households, diabetes, hypertension, age_groups ], open('tamilnadu_population_10000000.pickle', \"wb\" ))"
   ]
  },
  {
   "cell_type": "code",
   "execution_count": 75,
   "metadata": {},
   "outputs": [],
   "source": [
    "# Check that it is loading correctly from file\n",
    "age, households, diabetes, hypertension, age_groups = pickle.load(open('{}_population_{}.pickle'.format(country, n), 'rb'))"
   ]
  },
  {
   "cell_type": "code",
   "execution_count": null,
   "metadata": {},
   "outputs": [],
   "source": []
  }
 ],
 "metadata": {
  "kernelspec": {
   "display_name": "Python 3",
   "language": "python",
   "name": "python3"
  },
  "language_info": {
   "codemirror_mode": {
    "name": "ipython",
    "version": 3
   },
   "file_extension": ".py",
   "mimetype": "text/x-python",
   "name": "python",
   "nbconvert_exporter": "python",
   "pygments_lexer": "ipython3",
   "version": "3.7.3"
  }
 },
 "nbformat": 4,
 "nbformat_minor": 2
}
